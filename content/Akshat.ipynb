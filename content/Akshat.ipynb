{
  "metadata": {
    "language_info": {
      "codemirror_mode": {
        "name": "javascript"
      },
      "file_extension": ".js",
      "mimetype": "text/javascript",
      "name": "javascript",
      "nbconvert_exporter": "javascript",
      "pygments_lexer": "javascript",
      "version": "es2017"
    },
    "kernelspec": {
      "name": "javascript",
      "display_name": "JavaScript (Web Worker)",
      "language": "javascript"
    }
  },
  "nbformat_minor": 4,
  "nbformat": 4,
  "cells": [
    {
      "cell_type": "markdown",
      "source": "# Akshat Khare's Portfolio\n\n## About Me\n\n\n\n",
      "metadata": {}
    },
    {
      "cell_type": "code",
      "source": "// Code Cell for About Me Section\nvar name = 'Akshat Khare';\nvar profession = 'Research Scientist AI';\nvar location = 'Bengaluru, India';\nvar specialization = 'Drones, llms, Autonomous Agents, Distributed Systems';\nvar currentRole = 'mavQ';\nvar currentStudy = 'Executive program in General Management from IIMC';\n\nconsole.log(`Hello! I am ${name}, a ${profession} based in ${location}.`);\nconsole.log(`I specialize in ${specialization}.`);\nconsole.log(`Currently, I'm working at ${currentRole} and pursuing ${currentStudy}.`);\n",
      "metadata": {
        "vscode": {
          "languageId": "plaintext"
        },
        "trusted": true
      },
      "execution_count": 1,
      "outputs": [
        {
          "name": "stdout",
          "text": "Hello! I am Akshat Khare, a Research Scientist AI based in Bengaluru, India.\nI specialize in Drones, llms, Autonomous Agents, Distributed Systems.\nCurrently, I'm working at mavQ and pursuing Executive program in General Management from IIMC.\n",
          "output_type": "stream"
        },
        {
          "execution_count": 1,
          "output_type": "execute_result",
          "data": {},
          "metadata": {}
        }
      ]
    },
    {
      "cell_type": "markdown",
      "source": "---\n\n## Education\n\n- **IIT Delhi, Department specialization in Data Analytics and AI**\n  - Graduated in 2020\n  - Secured AIR 63 in IITJEE, being in the 0.001 percentile.\n\n---\n\n## Work Experience\n\n### mavQ\n*Research Scientist in AI*\n- [Details]\n\n### Nutanix\n*AI for Systems Research*\n- [Details]\n\n### U.S. Government\n*AI for Fraud Identification in Grants and Pharmaceuticals for Clinical Trial Predictions*\n- [Details]\n\n---\n\n## Skills\n\n- Drones\n- Autonomous Agents\n- Distributed Systems\n- llms\n- Data Analytics\n- General Management\n\n---\n\n## Projects\n\n### Autonomous Agents for Google Analytics\n- [Details]\n\n### Simulations/Digital Twins for Robots\n- [Details]\n\n---\n\n## Publications\n\n1. **Opioid Consumption Increase in COVID Stay-at-home Orders**\n2. **Foot Reconstruction from Plantar Measurements**\n\n---\n\n## Hackathons and Awards\n\n- [Details]\n\n---\n\n## Contact\n\nFor collaborations or questions, feel free to [Contact Me](mailto:your-email@example.com).",
      "metadata": {}
    },
    {
      "cell_type": "markdown",
      "source": "",
      "metadata": {}
    }
  ]
}